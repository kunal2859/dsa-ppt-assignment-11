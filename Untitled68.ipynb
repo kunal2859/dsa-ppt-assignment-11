{
 "cells": [
  {
   "cell_type": "code",
   "execution_count": 2,
   "id": "f9cbabb4",
   "metadata": {},
   "outputs": [
    {
     "data": {
      "text/plain": [
       "2"
      ]
     },
     "execution_count": 2,
     "metadata": {},
     "output_type": "execute_result"
    }
   ],
   "source": [
    "def mySqrt(x):\n",
    "    i=1\n",
    "    j=x\n",
    "    while i<=j:\n",
    "        mid=i+(j-i)//2\n",
    "        if mid*mid==x:\n",
    "            return mid\n",
    "        elif mid*mid>x:\n",
    "            j=mid-1\n",
    "        else:\n",
    "            i=mid+1\n",
    "    return j\n",
    "\n",
    "mySqrt(8)"
   ]
  },
  {
   "cell_type": "code",
   "execution_count": 3,
   "id": "8261566c",
   "metadata": {},
   "outputs": [
    {
     "data": {
      "text/plain": [
       "2"
      ]
     },
     "execution_count": 3,
     "metadata": {},
     "output_type": "execute_result"
    }
   ],
   "source": [
    "def maximum(nums):\n",
    "    i=0\n",
    "    j=len(nums)-1\n",
    "    while i<j:\n",
    "        mid=i+(j-i)//2\n",
    "        if nums[mid]<nums[mid+1]:\n",
    "            i=mid+1\n",
    "        else:\n",
    "            j=mid\n",
    "    return i\n",
    "\n",
    "nums=[1,2,3,1]\n",
    "maximum(nums)"
   ]
  },
  {
   "cell_type": "code",
   "execution_count": 6,
   "id": "f954fe21",
   "metadata": {},
   "outputs": [
    {
     "data": {
      "text/plain": [
       "2"
      ]
     },
     "execution_count": 6,
     "metadata": {},
     "output_type": "execute_result"
    }
   ],
   "source": [
    "def missing_number(nums):\n",
    "    i = 0\n",
    "    j = len(nums)-1\n",
    "    while i<=j:\n",
    "        mid = i+(j-i)//2\n",
    "        if mid == nums[mid]:\n",
    "            i = mid+1\n",
    "        else:\n",
    "            j = mid-1\n",
    "    return j+1\n",
    "\n",
    "def missingNumber(nums):\n",
    "    nums.sort()\n",
    "    return missing_number(nums)\n",
    "\n",
    "nums=[3,0,1]\n",
    "missingNumber(nums)"
   ]
  },
  {
   "cell_type": "code",
   "execution_count": 8,
   "id": "cd47b255",
   "metadata": {},
   "outputs": [
    {
     "data": {
      "text/plain": [
       "2"
      ]
     },
     "execution_count": 8,
     "metadata": {},
     "output_type": "execute_result"
    }
   ],
   "source": [
    "def repititive(nums):\n",
    "    i=0\n",
    "    j=len(nums)-1\n",
    "    while i<j:\n",
    "        mid=i+(j-i)//2\n",
    "        count=0\n",
    "        for num in nums:\n",
    "            if num<=mid:\n",
    "                count+=1\n",
    "        if count>mid:\n",
    "            j=mid\n",
    "        else:\n",
    "            i=mid+1\n",
    "    return i\n",
    "\n",
    "nums=[1,3,4,2,2]\n",
    "repititive(nums)"
   ]
  },
  {
   "cell_type": "code",
   "execution_count": 10,
   "id": "0c03c964",
   "metadata": {},
   "outputs": [
    {
     "data": {
      "text/plain": [
       "[2]"
      ]
     },
     "execution_count": 10,
     "metadata": {},
     "output_type": "execute_result"
    }
   ],
   "source": [
    "def intersection(nums1, nums2):\n",
    "    nums1.sort()\n",
    "    nums2.sort()\n",
    "    result = []\n",
    "\n",
    "    def binary_search(arr, target):\n",
    "        i = 0\n",
    "        j=len(arr) - 1\n",
    "        while i <= j:\n",
    "            mid = i+(j-i) // 2\n",
    "            if arr[mid] == target:\n",
    "                return True\n",
    "            elif arr[mid] < target:\n",
    "                i = mid + 1\n",
    "            else:\n",
    "                j = mid - 1\n",
    "\n",
    "        return False\n",
    "\n",
    "    for num in nums1:\n",
    "        if binary_search(nums2, num) and num not in result:\n",
    "            result.append(num)\n",
    "\n",
    "    return result\n",
    "\n",
    "nums1 = [1,2,2,1]\n",
    "nums2 = [2,2]\n",
    "intersection(nums1,nums2)"
   ]
  },
  {
   "cell_type": "code",
   "execution_count": 12,
   "id": "20bdfd80",
   "metadata": {},
   "outputs": [
    {
     "data": {
      "text/plain": [
       "1"
      ]
     },
     "execution_count": 12,
     "metadata": {},
     "output_type": "execute_result"
    }
   ],
   "source": [
    "def findMin(nums):\n",
    "    i = 0\n",
    "    j = len(nums) - 1\n",
    "    while i < j:\n",
    "        mid = (i + j) // 2\n",
    "        if nums[mid] > nums[j]:\n",
    "            i = mid + 1\n",
    "        else:\n",
    "            j = mid\n",
    "    return nums[i]\n",
    "\n",
    "nums = [3,4,5,1,2]\n",
    "findMin(nums)"
   ]
  },
  {
   "cell_type": "code",
   "execution_count": 23,
   "id": "09c8d772",
   "metadata": {},
   "outputs": [
    {
     "data": {
      "text/plain": [
       "[-1, -1]"
      ]
     },
     "execution_count": 23,
     "metadata": {},
     "output_type": "execute_result"
    }
   ],
   "source": [
    "def searchRange(nums, target):\n",
    "    low = findlow(nums, target)\n",
    "    high = findhigh(nums, target)\n",
    "    return [low, high]\n",
    "\n",
    "def findlow(nums, target):\n",
    "    i = 0\n",
    "    j = len(nums) - 1\n",
    "    low = -1\n",
    "\n",
    "    while i <= j:\n",
    "        mid = (i + j) // 2\n",
    "\n",
    "        if nums[mid] == target:\n",
    "            low = mid\n",
    "            j = mid - 1\n",
    "        elif nums[mid] < target:\n",
    "            i = mid + 1\n",
    "        else:\n",
    "            j = mid - 1\n",
    "\n",
    "    return low\n",
    "\n",
    "def findhigh(nums, target):\n",
    "    i = 0\n",
    "    j = len(nums) - 1\n",
    "    high = -1\n",
    "\n",
    "    while i <= j:\n",
    "        mid = (i + j) // 2\n",
    "\n",
    "        if nums[mid] == target:\n",
    "            high = mid\n",
    "            i = mid + 1\n",
    "        elif nums[mid] < target:\n",
    "            i = mid + 1\n",
    "        else:\n",
    "            j = mid - 1\n",
    "\n",
    "    return high\n",
    "\n",
    "nums=[5,7,7,8,8,10]\n",
    "target=6\n",
    "searchRange(nums,target)"
   ]
  },
  {
   "cell_type": "code",
   "execution_count": 25,
   "id": "21f023f0",
   "metadata": {},
   "outputs": [
    {
     "data": {
      "text/plain": [
       "[9, 4]"
      ]
     },
     "execution_count": 25,
     "metadata": {},
     "output_type": "execute_result"
    }
   ],
   "source": [
    "def intersect(nums1, nums2):\n",
    "    nums1.sort()\n",
    "    result = []\n",
    "\n",
    "    for num in nums2:\n",
    "        index = binarySearch(nums1, num)\n",
    "        if index != -1:\n",
    "            result.append(num)\n",
    "            nums1.pop(index)\n",
    "\n",
    "    return result\n",
    "\n",
    "def binarySearch(nums, target):\n",
    "    low = 0\n",
    "    high = len(nums) - 1\n",
    "\n",
    "    while low <= high:\n",
    "        mid = (low + high) // 2\n",
    "\n",
    "        if nums[mid] == target:\n",
    "            return mid\n",
    "        elif nums[mid] < target:\n",
    "            low = mid + 1\n",
    "        else:\n",
    "            high = mid - 1\n",
    "\n",
    "    return -1\n",
    "\n",
    "nums1 = [4,9,5]\n",
    "nums2 = [9,4,9,8,4]\n",
    "intersect(nums1,nums2)"
   ]
  },
  {
   "cell_type": "code",
   "execution_count": null,
   "id": "da5888aa",
   "metadata": {},
   "outputs": [],
   "source": []
  }
 ],
 "metadata": {
  "kernelspec": {
   "display_name": "Python 3 (ipykernel)",
   "language": "python",
   "name": "python3"
  },
  "language_info": {
   "codemirror_mode": {
    "name": "ipython",
    "version": 3
   },
   "file_extension": ".py",
   "mimetype": "text/x-python",
   "name": "python",
   "nbconvert_exporter": "python",
   "pygments_lexer": "ipython3",
   "version": "3.9.13"
  }
 },
 "nbformat": 4,
 "nbformat_minor": 5
}
